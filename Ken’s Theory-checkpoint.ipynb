{
 "cells": [
  {
   "cell_type": "code",
   "execution_count": 1,
   "metadata": {},
   "outputs": [],
   "source": [
    "# Imports and constants:\n",
    "import math\n",
    "c = 299792458 # m/s\n",
    "G = 6.67 * 10**-11 # N * m^2 / kg^2"
   ]
  },
  {
   "cell_type": "code",
   "execution_count": 2,
   "metadata": {},
   "outputs": [],
   "source": [
    "def black_hole_2D_time(mass, timeSpeed):\n",
    "    matter = mass * c**2\n",
    "    print('matter =', matter)\n",
    "    avgTimeSpeed = timeSpeed * round(math.sqrt(2), 15)\n",
    "    antimatter = (1/2) * mass * avgTimeSpeed**2\n",
    "    print('antimatter =', antimatter)\n",
    "    totalEnergy = matter + antimatter\n",
    "    print('(avgTimeSpeed, totalEnergy) = ')\n",
    "    return (avgTimeSpeed, totalEnergy)"
   ]
  },
  {
   "cell_type": "code",
   "execution_count": 3,
   "metadata": {},
   "outputs": [
    {
     "name": "stdout",
     "output_type": "stream",
     "text": [
      "matter = 898755178736817640\n",
      "antimatter = (-8.987551787368177e+17+0j)\n",
      "(avgTimeSpeed, totalEnergy) = \n"
     ]
    },
    {
     "data": {
      "text/plain": [
       "(423970560.00076646j, 0j)"
      ]
     },
     "execution_count": 3,
     "metadata": {},
     "output_type": "execute_result"
    }
   ],
   "source": [
    "black_hole_2D_time(10, 1j*c)"
   ]
  },
  {
   "cell_type": "code",
   "execution_count": 7,
   "metadata": {},
   "outputs": [],
   "source": [
    "def new_gravity_formula(mass1, mass2, timeGap, distance):\n",
    "    return G * mass1 * mass2 * c * timeGap / distance**3"
   ]
  },
  {
   "cell_type": "code",
   "execution_count": 22,
   "metadata": {},
   "outputs": [
    {
     "data": {
      "text/plain": [
       "3.9992313897199997e-14"
      ]
     },
     "execution_count": 22,
     "metadata": {},
     "output_type": "execute_result"
    }
   ],
   "source": [
    "new_gravity_formula(10, 20, 10, 10**5)"
   ]
  },
  {
   "cell_type": "code",
   "execution_count": 23,
   "metadata": {},
   "outputs": [],
   "source": [
    "def octonion_reality():\n",
    "    print('The octonion basis is [1, 1j, 1j, 1j, 1j, 1j, 1j, 1j],')\n",
    "    print('the reality basis is [1j, 1j, 1, 1, 1, 1, 1, 1], and ')\n",
    "    print('the matrix which links octonions to physical reality is:')\n",
    "    return [[1j, 0, 0, 0, 0, 0, 0, 0], \\\n",
    "            [0, 1, 0, 0, 0, 0, 0, 0], \\\n",
    "            [0, 0, -1j, 0, 0, 0, 0, 0], \\\n",
    "            [0, 0, 0, -1j, 0, 0, 0, 0], \\\n",
    "            [0, 0, 0, 0, -1j, 0, 0, 0], \\\n",
    "            [0, 0, 0, 0, 0, -1j, 0, 0], \\\n",
    "            [0, 0, 0, 0, 0, 0, -1j, 0], \\\n",
    "            [0, 0, 0, 0, 0, 0, 0, -1j], \\\n",
    "           ]"
   ]
  },
  {
   "cell_type": "code",
   "execution_count": 24,
   "metadata": {},
   "outputs": [
    {
     "name": "stdout",
     "output_type": "stream",
     "text": [
      "The octonion basis is [1, 1j, 1j, 1j, 1j, 1j, 1j, 1j],\n",
      "the reality basis is [1j, 1j, 1, 1, 1, 1, 1, 1], and \n",
      "the matrix which links octonions to physical reality is:\n"
     ]
    },
    {
     "data": {
      "text/plain": [
       "[[1j, 0, 0, 0, 0, 0, 0, 0],\n",
       " [0, 1, 0, 0, 0, 0, 0, 0],\n",
       " [0, 0, (-0-1j), 0, 0, 0, 0, 0],\n",
       " [0, 0, 0, (-0-1j), 0, 0, 0, 0],\n",
       " [0, 0, 0, 0, (-0-1j), 0, 0, 0],\n",
       " [0, 0, 0, 0, 0, (-0-1j), 0, 0],\n",
       " [0, 0, 0, 0, 0, 0, (-0-1j), 0],\n",
       " [0, 0, 0, 0, 0, 0, 0, (-0-1j)]]"
      ]
     },
     "execution_count": 24,
     "metadata": {},
     "output_type": "execute_result"
    }
   ],
   "source": [
    "octonion_reality()"
   ]
  },
  {
   "cell_type": "code",
   "execution_count": null,
   "metadata": {},
   "outputs": [],
   "source": [
    "def only_magnetic_fields_not_electric():\n",
    "    return charge"
   ]
  },
  {
   "cell_type": "code",
   "execution_count": null,
   "metadata": {},
   "outputs": [],
   "source": [
    "def their_future_is_our_past():\n",
    "    return speed"
   ]
  }
 ],
 "metadata": {
  "kernelspec": {
   "display_name": "Python 3",
   "language": "python",
   "name": "python3"
  },
  "language_info": {
   "codemirror_mode": {
    "name": "ipython",
    "version": 3
   },
   "file_extension": ".py",
   "mimetype": "text/x-python",
   "name": "python",
   "nbconvert_exporter": "python",
   "pygments_lexer": "ipython3",
   "version": "3.6.4"
  }
 },
 "nbformat": 4,
 "nbformat_minor": 2
}
