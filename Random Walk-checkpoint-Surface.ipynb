{
 "cells": [
  {
   "cell_type": "markdown",
   "metadata": {},
   "source": [
    "# Classical and quantum random walks for fixed angle theta:"
   ]
  },
  {
   "cell_type": "code",
   "execution_count": null,
   "metadata": {
    "scrolled": true
   },
   "outputs": [],
   "source": [
    "# Imports:\n",
    "import numpy as np\n",
    "import matplotlib.pyplot as plt"
   ]
  },
  {
   "cell_type": "code",
   "execution_count": null,
   "metadata": {},
   "outputs": [],
   "source": [
    "# Average of classical and ideal average of quantum random walk probability distributions:\n",
    "mu = 0\n",
    "\n",
    "# Classical random walk wave function after time t (in steps):\n",
    "def classical_psi(t):\n",
    "    sigma = classical_stdev(t)\n",
    "    num_nodes = 2 * t + 1\n",
    "    nodes = np.arange(num_nodes) - t\n",
    "    return np.sqrt(np.exp(-(1/2) * ((nodes - mu) / sigma)**2) / (sigma * np.sqrt(2 * np.pi)))\n",
    "\n",
    "# Classical random walk standard deviation after time t (in steps):\n",
    "def classical_stdev(t):\n",
    "    return np.sqrt(t/4)"
   ]
  },
  {
   "cell_type": "code",
   "execution_count": null,
   "metadata": {},
   "outputs": [],
   "source": [
    "# The imaginary number for the complex quantum coin operator below = i = √(-1):\n",
    "i = 1j\n",
    "\n",
    "# Quantum coin operator:\n",
    "def C_hat(plus, minus, theta):\n",
    "    new_plus = np.cos(theta) * plus + i * np.sin(theta) * minus\n",
    "    new_minus = i * np.sin(theta) * plus + np.cos(theta) * minus\n",
    "    return (new_plus, new_minus)\n",
    "\n",
    "# Conditional translation quantum operator for walking right:\n",
    "def T_hat_plus(plus):\n",
    "    temp = plus[-1]\n",
    "    plus[1:] = plus[0:-1]\n",
    "    plus[0] = temp\n",
    "    return plus\n",
    "\n",
    "# Conditional translation quantum operator for walking left:\n",
    "def T_hat_minus(minus):\n",
    "    temp = minus[0]\n",
    "    minus[0:-1] = minus[1:]\n",
    "    minus[-1] = temp\n",
    "    return minus"
   ]
  },
  {
   "cell_type": "code",
   "execution_count": null,
   "metadata": {},
   "outputs": [],
   "source": [
    "# Next quantum wave function for walking each step left:\n",
    "def next_psi_plus(plus, minus, theta):\n",
    "    return T_hat_plus(C_hat(plus, minus, theta)[0])\n",
    "\n",
    "# Next quantum wave function for walking each step right:\n",
    "def next_psi_minus(plus, minus, theta):\n",
    "    return T_hat_minus(C_hat(plus, minus, theta)[1])"
   ]
  },
  {
   "cell_type": "code",
   "execution_count": null,
   "metadata": {},
   "outputs": [],
   "source": [
    "# Final quantum wave function for the entire quantum random walk after time t (in steps):\n",
    "def total_quantum_psi(t, thetas, print_out=False):\n",
    "    num_nodes = 2 * t + 1\n",
    "    plus = np.zeros(num_nodes)\n",
    "    plus[t] = 1 / np.sqrt(2)\n",
    "    minus = plus\n",
    "    if (print_out):\n",
    "        print('step 0 plus =', plus, '\\n step 0 minus =', minus)\n",
    "    for j in range(t):\n",
    "        temp = next_psi_plus(plus, minus, thetas[j])\n",
    "        minus = next_psi_minus(plus, minus, thetas[j])\n",
    "        plus = temp\n",
    "        if (print_out):\n",
    "            print('step', j+1,'plus =', plus, '\\n step', j+1,'minus =', minus)\n",
    "    return np.sqrt(np.abs(plus)**2 + np.abs(minus)**2)"
   ]
  },
  {
   "cell_type": "code",
   "execution_count": null,
   "metadata": {
    "scrolled": true
   },
   "outputs": [],
   "source": [
    "# Here is the default for t = num_steps = 2, so theta = π/4 and C = fair coin = [[1, i], [i, 1]]:\n",
    "num_steps = 2\n",
    "theta = np.pi / 4\n",
    "total_quantum_psi(t=num_steps, thetas=num_steps*[theta], print_out=True)"
   ]
  },
  {
   "cell_type": "code",
   "execution_count": null,
   "metadata": {
    "scrolled": false
   },
   "outputs": [],
   "source": [
    "# Mean and standard deviation of the quantum random walk after time t (in steps):\n",
    "def quantum_stats(nodes, walk):\n",
    "    mean = sum(nodes * walk) / len(nodes)\n",
    "    stdev = sum(nodes**2 * walk**2) / len(nodes) - mean\n",
    "    return (mean, stdev)"
   ]
  },
  {
   "cell_type": "code",
   "execution_count": null,
   "metadata": {},
   "outputs": [],
   "source": [
    "# Plot of both classical and quantum random walks after time t (in steps):\n",
    "def plot_walks(t, thetas, walk, seed=0):\n",
    "    num_nodes = 2 * t + 1\n",
    "    nodes = np.arange(num_nodes) - t\n",
    "    quantum_psi_squared = total_quantum_psi(t, thetas)**2\n",
    "    plot = (walk == (walk // plot_interval) * plot_interval)\n",
    "    if plot:\n",
    "        # Mean and standard deviation:\n",
    "        mean, stdev = quantum_stats(nodes, quantum_psi_squared)\n",
    "        stats = 'µ = ' + decimal_places_format%(mean) + '\\n$\\sigma$ = ' + decimal_places_format%(stdev)\n",
    "        # Seed for random, or theta for fixed, angle:\n",
    "        stats += '\\nseed = ' + integer_format%(seed) if seed else '\\n$\\\\theta$ = ' + \\\n",
    "                 decimal_places_format%(thetas[0]/np.pi) + ' π'\n",
    "        # Two (2) randomly selected angles:\n",
    "        if (seed == two_angle_seed):\n",
    "            theta_1 = thetas[0]\n",
    "            for theta in thetas[1:]:\n",
    "                if (theta != theta_1):\n",
    "                    theta_2 = theta\n",
    "                    break\n",
    "            stats += '\\n$\\\\theta_1$ = ' + decimal_places_format%(theta_1/np.pi) + ' π \\n$\\\\theta_2$ = ' + \\\n",
    "                     decimal_places_format%(theta_2/np.pi) + ' π'\n",
    "        plt.errorbar(nodes, classical_psi(t)**2, fmt='--', color='red')\n",
    "        plt.plot(nodes, quantum_psi_squared, color='black', label=stats)\n",
    "        plt.xlim(-t, t)\n",
    "        y_min, y_max = -0.001, 0.08\n",
    "        plt.ylim(y_min, y_max)\n",
    "        x_ticks_min, x_ticks_max, x_ticks_step = -t, t+1, t//2\n",
    "        x_ticks = np.arange(x_ticks_min, x_ticks_max, x_ticks_step)\n",
    "        plt.xticks(x_ticks, fontsize=12)\n",
    "        y_ticks_min, y_ticks_max, y_ticks_step = 0, 0.081, 0.02\n",
    "        y_ticks = np.arange(y_ticks_min, y_ticks_max, y_ticks_step)\n",
    "        plt.yticks(y_ticks, fontsize=12)\n",
    "        plt.xlabel('Node', fontsize=12)\n",
    "        plt.ylabel('|$\\psi$|$^2$', fontsize=12)\n",
    "        plt.legend(loc='upper right', fontsize=12)\n",
    "        if (walk == num_walks):\n",
    "            # Plot the very last (aka 100th) walk below, instead of saving it as an image:\n",
    "            plt.show()\n",
    "        else:\n",
    "            img_name = './images/'\n",
    "            img_name += '2' if (seed == two_angle_seed) else ('random' if seed else 'fixed')\n",
    "            img_name += '_angle_' + str(walk) + '.png'\n",
    "            plt.savefig(img_name)\n",
    "            plt.clf()\n",
    "    return quantum_psi_squared"
   ]
  },
  {
   "cell_type": "code",
   "execution_count": null,
   "metadata": {},
   "outputs": [],
   "source": [
    "# Set initial value of two_angle_seed to -1, since we will use it later:\n",
    "two_angle_seed = -1\n",
    "# Plot of both classical and quantum random walks after time t = 100 and angles in array fixed_angles below:\n",
    "num_steps = 100\n",
    "# Number of quantum walks = length of array fixed_angles = 100:\n",
    "num_walks = 100\n",
    "whole_percent = 100\n",
    "integer_format = '%0.0f'\n",
    "lowest_num_decimal_places = 3\n",
    "num_decimal_places = max(int(np.log10(num_walks)) + 1, lowest_num_decimal_places)\n",
    "decimal_places_format = '%0.' + integer_format%(num_decimal_places) + 'f'\n",
    "percent_walks_to_plot = 10\n",
    "num_walks_to_plot = num_walks * percent_walks_to_plot / whole_percent\n",
    "plot_interval = num_walks // num_walks_to_plot\n",
    "fixed_angles = 2 * np.arange(num_walks) * np.pi / (num_walks - 1)\n",
    "# Fixed angle walk plots for visualization and probabilities for machine learning:\n",
    "fixed_walk_probs = []\n",
    "for j in range(num_walks):\n",
    "    fixed_walk_probs += [plot_walks(t=num_steps, thetas=num_steps*[fixed_angles[j]], walk=j+1)]"
   ]
  },
  {
   "cell_type": "code",
   "execution_count": null,
   "metadata": {},
   "outputs": [],
   "source": [
    "# Plots classical and quantum standard deviation vs time up to given max time:\n",
    "def plot_stdev_vs_time(max_time, theta):\n",
    "    times = np.arange(max_time+1)\n",
    "    stdevs = np.empty(max_time+1)\n",
    "    for t in times:\n",
    "        num_nodes = 2 * t + 1\n",
    "        nodes = np.arange(num_nodes) - t\n",
    "        quantum_psi_squared = total_quantum_psi(t, t*[theta])**2\n",
    "        stdevs[t] = quantum_stats(nodes, quantum_psi_squared)[1]\n",
    "    plt.errorbar(times, classical_stdev(t), fmt='--', color='red')\n",
    "    plt.plot( times, stdevs, color='black', label='$\\\\theta$ = ' + decimal_places_format%(theta/np.pi) + \\\n",
    "             ' π \\nmax time = ' + integer_format%(max_time) )\n",
    "    x_min, x_max = -1, max_time+1\n",
    "    plt.xlim(x_min, x_max)\n",
    "    max_stdev = max(np.sqrt(times[-1]), stdevs[-1])\n",
    "    y_min, y_max = -1, max_stdev+2\n",
    "    plt.ylim(y_min, y_max)\n",
    "    x_ticks_min, x_ticks_max, x_ticks_step = 0, max_time+1, max_time//10\n",
    "    plt.xticks(np.arange(x_ticks_min, x_ticks_max, x_ticks_step), fontsize=12)\n",
    "    y_ticks_min, y_ticks_max, y_ticks_step = 0, 7*max_stdev//5, max_stdev//5\n",
    "    plt.yticks(np.arange(y_ticks_min, y_ticks_max, y_ticks_step), fontsize=12)\n",
    "    plt.xlabel('time t', fontsize=12)\n",
    "    plt.ylabel('standard deviation $\\sigma$', fontsize=12)\n",
    "    return plt.legend(loc='upper right', fontsize=12)"
   ]
  },
  {
   "cell_type": "code",
   "execution_count": null,
   "metadata": {},
   "outputs": [],
   "source": [
    "# Default angle = π/4 and max_time = num_steps still = 100:\n",
    "plot_stdev_vs_time(max_time=num_steps, theta=np.pi/4)"
   ]
  },
  {
   "cell_type": "code",
   "execution_count": null,
   "metadata": {},
   "outputs": [],
   "source": [
    "# Default angle = π/2 and max_time = num_steps still = 100:\n",
    "plot_stdev_vs_time(max_time=num_steps, theta=np.pi/2)"
   ]
  },
  {
   "cell_type": "code",
   "execution_count": null,
   "metadata": {},
   "outputs": [],
   "source": [
    "# Default angle = π and max_time = num_steps still = 100:\n",
    "plot_stdev_vs_time(max_time=num_steps, theta=np.pi)"
   ]
  },
  {
   "cell_type": "code",
   "execution_count": null,
   "metadata": {},
   "outputs": [],
   "source": [
    "# Default angle = 3π/2 and max_time = num_steps still = 100:\n",
    "plot_stdev_vs_time(max_time=num_steps, theta=3*np.pi/2)"
   ]
  },
  {
   "cell_type": "code",
   "execution_count": null,
   "metadata": {},
   "outputs": [],
   "source": [
    "# Default angle = 2π and max_time = num_steps still = 100:\n",
    "plot_stdev_vs_time(max_time=num_steps, theta=2*np.pi)"
   ]
  },
  {
   "cell_type": "code",
   "execution_count": null,
   "metadata": {},
   "outputs": [],
   "source": [
    "# Plots classical and quantum standard deviation vs angle up to given max angle:\n",
    "def plot_stdev_vs_angle(max_angle, t, num_points=100):\n",
    "    num_nodes = 2 * t + 1\n",
    "    nodes = np.arange(num_nodes) - t\n",
    "    thetas = np.arange(num_points+1) * (max_angle / num_points)\n",
    "    stdevs = np.empty(num_points+1)\n",
    "    for point in range(len(thetas)):\n",
    "        quantum_psi_squared = total_quantum_psi(t, t*[thetas[point]])**2\n",
    "        stdevs[point] = quantum_stats(nodes, quantum_psi_squared)[1]\n",
    "    sigma = classical_stdev(t)\n",
    "    plt.errorbar(thetas, sigma, fmt='--', color='red')\n",
    "    plt.plot(thetas, stdevs, color='black', label='time = ' + integer_format%(t) + ' \\nmax angle = ' + \\\n",
    "             decimal_places_format%(max_angle/np.pi) + ' π')\n",
    "    max_stdev = max(sigma, stdevs[0])\n",
    "    x_min, x_max = -0.01, max_angle+0.01\n",
    "    plt.xlim(x_min, x_max)\n",
    "    y_min, y_max = -1, max_stdev+2\n",
    "    plt.ylim(y_min, y_max)\n",
    "    x_ticks_min, x_ticks_max, x_ticks_step = 0, max_angle+0.01, max_angle*20//10/10\n",
    "    plt.xticks(np.arange(x_ticks_min, x_ticks_max, x_ticks_step), fontsize=12)\n",
    "    y_ticks_min, y_ticks_max, y_ticks_step = 0, 7*max_stdev//5, max_stdev//5\n",
    "    plt.yticks(np.arange(y_ticks_min, y_ticks_max, y_ticks_step), fontsize=12)\n",
    "    plt.xlabel('angle $\\\\theta$', fontsize=12)\n",
    "    plt.ylabel('standard deviation $\\sigma$', fontsize=12)\n",
    "    return plt.legend(loc='upper right', fontsize=12)"
   ]
  },
  {
   "cell_type": "code",
   "execution_count": null,
   "metadata": {},
   "outputs": [],
   "source": [
    "# Default max_angle = π/4 and time t = num_steps still = 100:\n",
    "plot_stdev_vs_angle(max_angle=np.pi/4, num_points=num_steps, t=num_steps)"
   ]
  },
  {
   "cell_type": "code",
   "execution_count": null,
   "metadata": {},
   "outputs": [],
   "source": [
    "# Max_angle now = π and time t still = num_steps still = 100:\n",
    "plot_stdev_vs_angle(max_angle=np.pi, num_points=num_steps, t=num_steps)"
   ]
  },
  {
   "cell_type": "code",
   "execution_count": null,
   "metadata": {},
   "outputs": [],
   "source": [
    "# Max_angle now = 2π and time t still = num_steps still = 100:\n",
    "plot_stdev_vs_angle(max_angle=2*np.pi, num_points=num_steps, t=num_steps)"
   ]
  },
  {
   "cell_type": "markdown",
   "metadata": {},
   "source": [
    "# Random angle theta for each time step (aka C_hat matrix):"
   ]
  },
  {
   "cell_type": "code",
   "execution_count": null,
   "metadata": {
    "scrolled": true
   },
   "outputs": [],
   "source": [
    "# num_walks still = 100\n",
    "# num_steps still = 100\n",
    "# Random angle walk plots for visual and probabilities for machine learning:\n",
    "random_walk_probs = []\n",
    "for j in range(num_walks):\n",
    "    np.random.seed(j+1)\n",
    "    random_angles = 2 * np.random.random(num_steps) * np.pi\n",
    "    random_walk_probs += [plot_walks(t=num_steps, thetas=random_angles, walk=j+1, seed=j+1)]"
   ]
  },
  {
   "cell_type": "code",
   "execution_count": null,
   "metadata": {},
   "outputs": [],
   "source": [
    "# Standard deviation vs seed for seeds 1 to max_seed and fixed number of time steps t in *only* quantum walk:\n",
    "def plot_stdev_vs_seed(t, max_seed):\n",
    "    stdevs = np.empty(max_seed)\n",
    "    num_nodes = 2 * t + 1\n",
    "    for seed in range(max_seed):\n",
    "        np.random.seed(seed+1)\n",
    "        quantum_psi_squared = total_quantum_psi(t, thetas=np.random.random(t))**2\n",
    "        stdevs[seed] = quantum_stats(np.arange(num_nodes)-t, quantum_psi_squared)[1]\n",
    "    plt.plot(np.arange(max_seed)+1, stdevs, color='black', label='time = ' + integer_format%(t) + \\\n",
    "                                                                 ' \\nmax seed = ' + integer_format%(max_seed) )\n",
    "    max_stdev = max(stdevs)\n",
    "    x_min, x_max = 0, max_seed+1\n",
    "    plt.xlim(x_min, x_max)\n",
    "    y_min, y_max = -0.01, max_stdev+0.01\n",
    "    plt.ylim(y_min, y_max)\n",
    "    x_ticks_min, x_ticks_max, x_ticks_step = 0, max_seed+2, max_seed//10\n",
    "    plt.xticks(np.arange(x_ticks_min, x_ticks_max, x_ticks_step), fontsize=12)\n",
    "    y_ticks_min, y_ticks_max, y_ticks_step = 0, 7*max_stdev/5, max_stdev/5\n",
    "    plt.yticks(np.arange(y_ticks_min, y_ticks_max, y_ticks_step), fontsize=12)\n",
    "    plt.xlabel('random seed', fontsize=12)\n",
    "    plt.ylabel('standard deviation $\\sigma$', fontsize=12)\n",
    "    return plt.legend(loc='upper right', fontsize=12)"
   ]
  },
  {
   "cell_type": "code",
   "execution_count": null,
   "metadata": {
    "scrolled": true
   },
   "outputs": [],
   "source": [
    "# Standard deviation vs seed for seeds 1 to 100 and 100 time steps (aka plots just above):\n",
    "# num_walks still = 100 and num_steps still = 100\n",
    "plot_stdev_vs_seed(t=num_steps, max_seed=num_walks)"
   ]
  },
  {
   "cell_type": "markdown",
   "metadata": {},
   "source": [
    "# Random selection between 2 angles for each time step (aka C_hat matrix):"
   ]
  },
  {
   "cell_type": "code",
   "execution_count": null,
   "metadata": {
    "scrolled": false
   },
   "outputs": [],
   "source": [
    "# num_steps still = 100 and num_walks still = 100\n",
    "# Set random seed for 2 angle selection to num_walks + 1 =\n",
    "# (last seed for random angles above) + 1 = 100 + 1 = 101\n",
    "two_angle_seed = num_walks + 1\n",
    "np.random.seed(two_angle_seed)\n",
    "# Generate num_steps = 100 random angle choices of equal probability: \n",
    "angle_choices = np.random.uniform(size=num_steps)\n",
    "# Round choices above to nearest integer:\n",
    "angle_choices = np.round(angle_choices)\n",
    "two_angle_walk_probs = []\n",
    "for index in range(num_walks):\n",
    "    angle_1 = fixed_angles[index-num_walks//10]\n",
    "    angle_2 = fixed_angles[index]\n",
    "    two_angle_selections = angle_1 * (1 - angle_choices) + angle_2 * angle_choices\n",
    "    two_angle_walk_probs += [plot_walks(t=num_steps, thetas=two_angle_selections, walk=index+1, seed=two_angle_seed)]"
   ]
  },
  {
   "cell_type": "markdown",
   "metadata": {},
   "source": [
    "# Machine learning for fixed vs random vs 2 angle thetas from probabilities:"
   ]
  },
  {
   "cell_type": "code",
   "execution_count": null,
   "metadata": {},
   "outputs": [],
   "source": [
    "# Note that num_walks still = 100 from our plots above.\n",
    "num_classes = 2\n",
    "class_indexes = np.arange(num_classes) + 1\n",
    "# Test image labels (denoted by numbers 1, 2, ... , num_test_images-1, num_test_images):\n",
    "test_image_names = np.arange(num_test_images) + 1\n",
    "\n",
    "\n",
    "# In[ ]:\n",
    "\n",
    "\n",
    "from sklearn.cluster import KMeans\n",
    "from sklearn.metrics import confusion_matrix\n",
    "print('For Logistic Classification of ' + str(num_walks) + ' fixed ' +       'and ' + str(num_walks) + ' random angle quantum walk plots:')\n",
    "unsup = KMeans(n_clusters=num_classes)\n",
    "unsup.fit(X)\n",
    "predictY = unsup.predict(X)\n",
    "acc = len(np.where(predictY == testY)[0]) / len(testY)\n",
    "print('Accuracy = %0.3f = %0.1f'%(acc, whole_percent*acc), '% and Confusion Matrix =')\n",
    "print(confusion_matrix(testY, predictY))\n",
    "\n",
    "\n",
    "# In[ ]:\n",
    "\n",
    "\n",
    "from sklearn.linear_model import LogisticRegressionCV\n",
    "print('For Logistic Classification of ' + str(num_walks) + ' fixed ' +       'and ' + str(num_walks) + ' random angle quantum walk plots:')\n",
    "# Number of images in each class for fitting:\n",
    "num_fit_images = 0.7 * num_walks\n",
    "# Number of images in each class for testing = num_walks:\n",
    "num_test_images = 0.3 * num_walks\n",
    "\n",
    "fitX, fitY, testX, testY = [], [], [], []\n",
    "sample_image_name = './images/sample_image.png'\n",
    "plt.clf(); plt.savefig(sample_image_name)\n",
    "sample_image = cv2.imread(sample_image_name)\n",
    "image_width = sample_image.shape[1]\n",
    "start_index = 2 * image_width // 5\n",
    "end_index = 3 * image_width // 5\n",
    "# Note that for our 2 classes, class -1 means fixed angle, and class 1 means random angle.\n",
    "for class_index in class_indexes\n",
    "    fitX += num_fit_images * [class_index]\n",
    "    fitY += num_fit_images * [class_index]\n",
    "    for test_image_name in test_image_names:\n",
    "        test_image_name += class_index * num_test_images\n",
    "        test_image_name = './images/' + str(test_image_name) + '.png'\n",
    "        test_image = cv2.imread(test_image_name)\n",
    "        # Cut away ends of test image:\n",
    "        test_image = test_image[:, start_index:end_index]\n",
    "        # Reshape test image array from 3D into 1D array:\n",
    "        test_image_arr = test_image.reshape(-1)\n",
    "        # Cut away \"white\" areas of test image array:\n",
    "        test_image_arr = test_image_arr[np.where(test_image_arr != 255)]\n",
    "        # Sum the remaining image array elements:\n",
    "        test_image_sum = np.sum(test_image_arr)\n",
    "        test_image_sum = \n",
    "        testX += [test_image_sum]\n",
    "    testY += num_test_images * [class_index]\n",
    "fitX = np.array(fitX).reshape(-1, 1); fitY = np.array(fitY)\n",
    "testX = np.array(testX).reshape(-1, 1); testY = np.array(testY)\n",
    "logCV = LogisticRegressionCV()\n",
    "logCV.fit(fitX, fitY)\n",
    "predictY = logCV.predict(testX)\n",
    "print(fitX, '\\n', fitY)\n",
    "print(testX, '\\n', 'testY = ', testY, '\\n predictY = ', predictY)\n",
    "acc = len(np.where(predictY == testY)[0]) / len(testY)\n",
    "print('Accuracy = %0.3f = %0.1f'%(acc, whole_percent*acc), '% and Confusion Matrix =')\n",
    "print(confusion_matrix(testY, predictY))"
   ]
  }
 ],
 "metadata": {
  "kernelspec": {
   "display_name": "Python 3",
   "language": "python",
   "name": "python3"
  },
  "language_info": {
   "codemirror_mode": {
    "name": "ipython",
    "version": 3
   },
   "file_extension": ".py",
   "mimetype": "text/x-python",
   "name": "python",
   "nbconvert_exporter": "python",
   "pygments_lexer": "ipython3",
   "version": "3.6.5"
  },
  "widgets": {
   "state": {},
   "version": "1.1.2"
  }
 },
 "nbformat": 4,
 "nbformat_minor": 2
}
