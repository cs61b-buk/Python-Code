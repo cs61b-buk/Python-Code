{
 "cells": [
  {
   "cell_type": "markdown",
   "metadata": {},
   "source": [
    "### 0. binary math:"
   ]
  },
  {
   "cell_type": "code",
   "execution_count": 4,
   "metadata": {},
   "outputs": [
    {
     "name": "stdout",
     "output_type": "stream",
     "text": [
      "(5, 6165)\n",
      "(5, 6165)\n",
      "(5, 6165)\n",
      "(5, 6165)\n",
      "(5, 6165)\n"
     ]
    }
   ],
   "source": [
    "# Add 1 to an integer ***without*** math symbols:\n",
    "def plus_1(num, negative, xor, xor1):\n",
    "    if negative:\n",
    "        return - (~num)\n",
    "    bitFlipper = 1\n",
    "    while (num & bitFlipper):\n",
    "        num = ( (num ^ bitFlipper) & xor ) | ( ( (~num & bitFlipper) | (num & ~bitFlipper) ) & \\\n",
    "                xor1 ) | ( ( (num | bitFlipper) & (~num | ~bitFlipper) ) & ~xor1 )\n",
    "        bitFlipper <<= 1\n",
    "    return num | bitFlipper\n",
    "\n",
    "# Divide 2 integers (with or) ***without*** math symbols (except or \n",
    "# including xor and/or negative) and return quotient and remainder:\n",
    "def divide(dividend, divisor, math, negative=True, xor=True, xor1=True):\n",
    "    if math:\n",
    "        return (dividend // divisor, dividend % divisor)\n",
    "    quotient = 0\n",
    "    while (dividend >= divisor):\n",
    "        for i in range(divisor):\n",
    "            # Same as dividend -= 1 without using minus or plus:\n",
    "            if (dividend & 1):\n",
    "                dividend &= -2     # -= 1\n",
    "            else:\n",
    "                # Since -num = not(num) + 1 = ~num + 1, then num - 1 = \n",
    "                # - (-num + 1) = - (-num + 1 + 1 - 1) = - ( (-num + 1) \n",
    "                # + 1) + 1 = - (~num + 1) + 1 = ~ (~num + 1), we have:\n",
    "                dividend = ~ plus_1(~dividend, negative, xor, xor1)     # -= 1\n",
    "        # Same as quotient += 1 without using plus:\n",
    "        if (quotient & 1):\n",
    "            quotient = plus_1(quotient, negative, xor, xor1)     # += 1\n",
    "        else:\n",
    "            quotient |= 1     # += 1\n",
    "    remainder = dividend\n",
    "    return (quotient, remainder)\n",
    "\n",
    "# 1 example for each possibility:\n",
    "print(divide(67890, 12345, math=True))\n",
    "print(divide(67890, 12345, math=False, negative=True))\n",
    "print(divide(67890, 12345, math=False, negative=False, xor=True))\n",
    "print(divide(67890, 12345, math=False, negative=False, xor=False, xor1=True))\n",
    "print(divide(67890, 12345, math=False, negative=False, xor=False, xor1=False))"
   ]
  },
  {
   "cell_type": "markdown",
   "metadata": {},
   "source": [
    "### 1. arrays:"
   ]
  },
  {
   "cell_type": "code",
   "execution_count": null,
   "metadata": {},
   "outputs": [],
   "source": [
    "# The 2 guaranteed constraints are 2 ≤ a.length ≤ 25, and 0 ≤ a[i] ≤ 100.\n",
    "def zigzag(a):\n",
    "    min_len = 2 - (a[0] == a[1])\n",
    "    if (len(a) == 2):\n",
    "        return min_len\n",
    "    prev = a[0]\n",
    "    longest_zigzag_len = min_len\n",
    "    for i, cur in enumerate(a[1:-1]):\n",
    "        nx = a[i+2]\n",
    "        if ((cur < prev and cur < nx) or (cur > prev and cur > nx)):\n",
    "            prev = cur\n",
    "            longest_zigzag_len += 1\n",
    "        else:\n",
    "            break\n",
    "    return max(longest_zigzag_len, zigzag(a[1:]))\n",
    "zigzag([10, 20, 9, 30])"
   ]
  },
  {
   "cell_type": "markdown",
   "metadata": {},
   "source": [
    "### 2. sorting:"
   ]
  },
  {
   "cell_type": "code",
   "execution_count": null,
   "metadata": {},
   "outputs": [],
   "source": [
    "def minus(num1, num2):\n",
    "    return num1 - num2\n",
    "\n",
    "def heapify(a, root, compare):\n",
    "    largest = root\n",
    "    left = 2 * root + 1\n",
    "    right = 2 * root + 2\n",
    "    if left < len(a) and compare(a[root], a[left]) < 0:\n",
    "        largest = left\n",
    "    if right < len(a) and compare(a[largest], a[right]) < 0:\n",
    "        largest = right\n",
    "    if largest != root:\n",
    "        a[root], a[largest] = a[largest], a[root]\n",
    "    return a\n",
    "\n",
    "def heapSort(a, compare):\n",
    "    if (not a):\n",
    "        return a\n",
    "    for i in range(len(a)-1, -1, -1):\n",
    "        a = heapify(a, i, compare)\n",
    "    return heapSort(a[1:], compare) + [a[0]]\n",
    "\n",
    "heapSort([0, 6, 40, -12, 4, 21], minus)"
   ]
  },
  {
   "cell_type": "markdown",
   "metadata": {},
   "source": [
    "#### FROM https://codefights.com/skill-test/cSs5ucjzWqSoD6Dbu"
   ]
  },
  {
   "cell_type": "code",
   "execution_count": null,
   "metadata": {},
   "outputs": [],
   "source": [
    "def compare(num1, num2):\n",
    "    digits1, digits2 = [], []\n",
    "    temp1 = num1\n",
    "    temp2 = num2\n",
    "    while (temp1 or temp2):\n",
    "        digits1 += [temp1 % 10]\n",
    "        digits2 += [temp2 % 10]\n",
    "        temp1 //= 10\n",
    "        temp2 //= 10\n",
    "    diff = sum(digits1) - sum(digits2)\n",
    "    if diff:\n",
    "        return diff\n",
    "    return num1 - num2\n",
    "\n",
    "def digitRootSort(a):\n",
    "    return heapSort(a, compare)\n",
    "digitRootSort([12, 3, 34, 8, 10, 45])"
   ]
  },
  {
   "cell_type": "markdown",
   "metadata": {},
   "source": [
    "### 3. linked lists:"
   ]
  },
  {
   "cell_type": "code",
   "execution_count": null,
   "metadata": {},
   "outputs": [],
   "source": [
    "class LinkedList:\n",
    "    \n",
    "    def __init__(self):\n",
    "        self.item = None\n",
    "        self.next = None\n",
    "        self.size = 0\n",
    "    \n",
    "    def toString(self):\n",
    "        if self.next:\n",
    "            text = \"\"\n",
    "            curr = self.next\n",
    "            for i in range(self.size - 1):\n",
    "                text += str(curr.item) + \" -> \"\n",
    "                curr = curr.next\n",
    "            return text + str(curr.item)\n",
    "        return \"None\"\n",
    "    \n",
    "    def get_size(self):\n",
    "        return self.size\n",
    "    \n",
    "    def add(self, item, index):\n",
    "        if index == -1:\n",
    "            index += self.size + 1\n",
    "        if index > self.size or index < 0:\n",
    "            print(\"Error: index out of range!\")\n",
    "        else:\n",
    "            curr = self\n",
    "            for i in range(index):\n",
    "                curr = curr.next\n",
    "            temp = curr.next\n",
    "            curr.next = LinkedList()\n",
    "            curr.next.item = item\n",
    "            curr.next.next = temp\n",
    "            self.size += 1\n",
    "   \n",
    "    def get(self, index):\n",
    "        if index == -1:\n",
    "            index += self.size\n",
    "        if index > self.size - 1 or index < 0:\n",
    "            return \"Error: index out of range!\"\n",
    "        curr = self\n",
    "        for i in range(index):\n",
    "            curr = curr.next\n",
    "        return curr.item\n",
    "    \n",
    "    def remove(self, item):\n",
    "        curr = self\n",
    "        while curr and curr.item != item:\n",
    "            curr = curr.next\n",
    "        if curr and curr.next:\n",
    "            temp = curr.next\n",
    "            curr.item = curr.next.item\n",
    "            curr.next = temp.next\n",
    "            self.size -= 1\n",
    "        elif curr:\n",
    "            curr.item = None\n",
    "            curr = None\n",
    "            self.size -= 1\n",
    "        else:\n",
    "            print(\"Error: item does not exist!\")\n",
    "\n",
    "    def clear(self):\n",
    "        self.item = None\n",
    "        self.next = None\n",
    "        self.size = 0"
   ]
  },
  {
   "cell_type": "code",
   "execution_count": null,
   "metadata": {},
   "outputs": [],
   "source": [
    "LL = LinkedList()\n",
    "print(\"LL = \" + LL.toString())\n",
    "print(\"size = \" + str(LL.get_size()))\n",
    "LL.add(10, 0)\n",
    "print(\"LL = \" + LL.toString())\n",
    "print(\"size = \" + str(LL.get_size()))\n",
    "LL.add(20, 2)\n",
    "print(\"LL = \" + LL.toString())\n",
    "print(\"size = \" + str(LL.get_size()))\n",
    "LL.add(20, 1)\n",
    "print(\"LL = \" + LL.toString())\n",
    "print(\"size = \" + str(LL.get_size()))\n",
    "LL.add(30, 2)\n",
    "print(\"LL = \" + LL.toString())\n",
    "print(\"size = \" + str(LL.get_size()))\n",
    "LL.add(40, 1)\n",
    "print(\"LL = \" + LL.toString())\n",
    "print(\"size = \" + str(LL.get_size()))\n",
    "LL.remove(50)\n",
    "print(\"LL = \" + LL.toString())\n",
    "print(\"size = \" + str(LL.get_size()))\n",
    "LL.remove(40)\n",
    "print(\"LL = \" + LL.toString())\n",
    "print(\"size = \" + str(LL.get_size()))\n",
    "LL.clear()\n",
    "print(\"LL = \" + LL.toString())\n",
    "print(\"size = \" + str(LL.get_size()))"
   ]
  },
  {
   "cell_type": "markdown",
   "metadata": {},
   "source": [
    "### 4. queues:"
   ]
  },
  {
   "cell_type": "code",
   "execution_count": null,
   "metadata": {},
   "outputs": [],
   "source": []
  },
  {
   "cell_type": "markdown",
   "metadata": {},
   "source": [
    "### 5. stacks:"
   ]
  },
  {
   "cell_type": "code",
   "execution_count": null,
   "metadata": {},
   "outputs": [],
   "source": []
  },
  {
   "cell_type": "markdown",
   "metadata": {},
   "source": [
    "### 6. hash tables:"
   ]
  },
  {
   "cell_type": "code",
   "execution_count": null,
   "metadata": {},
   "outputs": [],
   "source": []
  },
  {
   "cell_type": "markdown",
   "metadata": {},
   "source": [
    "### 7. trees:"
   ]
  },
  {
   "cell_type": "code",
   "execution_count": null,
   "metadata": {},
   "outputs": [],
   "source": [
    "# Prints out a tree from a given array with each branch having up to given max children:\n",
    "def tree(array, max_children):\n",
    "    print('')\n",
    "    return print('The tree represented by the array', array, 'is above.')"
   ]
  },
  {
   "cell_type": "markdown",
   "metadata": {},
   "source": [
    "#### FROM https://codefights.com/skill-test/Wa7CukAPPkoPpbsFH"
   ]
  },
  {
   "cell_type": "code",
   "execution_count": null,
   "metadata": {},
   "outputs": [],
   "source": [
    "# You are given an array parent of length n specifying a tree. \n",
    "# The vertices of the tree are numbered from 0 to n - 1 and parent[i] is the parent of the ith node. \n",
    "# The root of the tree is the vertex v, the parent of which is the same vertex \n",
    "# (i.e. parent[v] = v if and only if v is a root).\n",
    "# What will the parent array look like if the edges stay the same, but the tree is now rooted at newRoot?\n",
    "# Guaranteed constraints: 4 ≤ len(parent) ≤ 50, 0 ≤ parent[i] < len(parent), and 0 ≤ newRoot < len(parent) - 1.\n",
    "# Example:\n",
    "#    2                          0 –– 2\n",
    "#   /                         /\n",
    "# 0                         1\n",
    "#   \\                        \\\n",
    "#     3 –– 1                   3\n",
    "# For parent = [0, 0, 0, 1] and newRoot = 1, the output should be changeRoot(parent, newRoot) = [1, 1, 0, 1].\n",
    "def changeRoot(parent, newRoot):\n",
    "    newParent = len(parent) * [-1]\n",
    "    newParent[newRoot] = newRoot\n",
    "    nodeParent = newRoot\n",
    "    node = parent[nodeParent]\n",
    "    while (nodeParent != node):\n",
    "        newParent[node] = nodeParent\n",
    "        nodeParent = node\n",
    "        node = parent[nodeParent]\n",
    "    for i in range(len(parent)):\n",
    "        if (newParent[i] == -1):\n",
    "            newParent[i] = parent[i]\n",
    "    return newParent\n",
    "changeRoot([0, 0, 0, 1], 1)"
   ]
  },
  {
   "cell_type": "markdown",
   "metadata": {},
   "source": [
    "### 8. graphs:"
   ]
  },
  {
   "cell_type": "code",
   "execution_count": null,
   "metadata": {},
   "outputs": [],
   "source": []
  }
 ],
 "metadata": {
  "kernelspec": {
   "display_name": "Python 3",
   "language": "python",
   "name": "python3"
  },
  "language_info": {
   "codemirror_mode": {
    "name": "ipython",
    "version": 3
   },
   "file_extension": ".py",
   "mimetype": "text/x-python",
   "name": "python",
   "nbconvert_exporter": "python",
   "pygments_lexer": "ipython3",
   "version": "3.6.5"
  }
 },
 "nbformat": 4,
 "nbformat_minor": 2
}
