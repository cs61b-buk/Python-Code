{
 "cells": [
  {
   "cell_type": "code",
   "execution_count": null,
   "metadata": {},
   "outputs": [],
   "source": [
    "# Imports:\n",
    "import math\n",
    "import numpy as np\n",
    "import matplotlib.pyplot as plt"
   ]
  },
  {
   "cell_type": "code",
   "execution_count": null,
   "metadata": {},
   "outputs": [],
   "source": [
    "# Classical random walk wave function:\n",
    "def classical_psi(N):\n",
    "    num_nodes = 2 * N + 1\n",
    "    nodes = np.arange(num_nodes) - N\n",
    "    return math.sqrt(math.???(0, math.sqrt(N), nodes))"
   ]
  },
  {
   "cell_type": "code",
   "execution_count": null,
   "metadata": {},
   "outputs": [],
   "source": [
    "# Fair quantum coin operator:\n",
    "def C_hat():\n",
    "    return \n",
    "\n",
    "# Conditional translation quantum operator for walking right:\n",
    "def T_hat_plus():\n",
    "    return \n",
    "\n",
    "# Conditional translation quantum operator for walking left:\n",
    "def T_hat_minus():\n",
    "    return "
   ]
  },
  {
   "cell_type": "code",
   "execution_count": null,
   "metadata": {},
   "outputs": [],
   "source": [
    "# Final quantum wave function for walking right after N steps:\n",
    "def quantum_psi_plus(N): \n",
    "    num_nodes = 2 * N + 1\n",
    "    plus = 1/math.sqrt(2)\n",
    "    return plus\n",
    "\n",
    "# Final quantum wave function for walking left after N steps:\n",
    "def quantum_psi_minus(N): \n",
    "    num_nodes = 2 * N + 1\n",
    "    minus = 1/math.sqrt(2)\n",
    "    return minus\n",
    "\n",
    "# Final quantum wave function for the entire quantum random walk after N steps:\n",
    "def quantum_psi():\n",
    "    return math.sqrt(quantum_psi_plus(N)**2 + quantum_psi_minus(N)**2)\n",
    "\n",
    "# Plot of both the classical and quantum random walks after N steps:\n",
    "def plot_random_walks(num_nodes):\n",
    "    return plt"
   ]
  },
  {
   "cell_type": "code",
   "execution_count": null,
   "metadata": {
    "scrolled": true
   },
   "outputs": [],
   "source": [
    "classical_psi(2)"
   ]
  }
 ],
 "metadata": {
  "kernelspec": {
   "display_name": "Python 3",
   "language": "python",
   "name": "python3"
  },
  "language_info": {
   "codemirror_mode": {
    "name": "ipython",
    "version": 3
   },
   "file_extension": ".py",
   "mimetype": "text/x-python",
   "name": "python",
   "nbconvert_exporter": "python",
   "pygments_lexer": "ipython3",
   "version": "3.6.4"
  }
 },
 "nbformat": 4,
 "nbformat_minor": 2
}
