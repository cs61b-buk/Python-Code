{
 "cells": [
  {
   "cell_type": "code",
   "execution_count": null,
   "metadata": {},
   "outputs": [],
   "source": [
    "def timeTillEconomicCollapse():\n",
    "    return time"
   ]
  },
  {
   "cell_type": "code",
   "execution_count": null,
   "metadata": {},
   "outputs": [],
   "source": [
    "def timeToUseUpEnergy():\n",
    "    return time"
   ]
  },
  {
   "cell_type": "code",
   "execution_count": null,
   "metadata": {},
   "outputs": [],
   "source": [
    "def richTaxShare():\n",
    "    return richShare"
   ]
  },
  {
   "cell_type": "code",
   "execution_count": null,
   "metadata": {},
   "outputs": [],
   "source": [
    "def businessProfit():\n",
    "    return profit"
   ]
  },
  {
   "cell_type": "code",
   "execution_count": null,
   "metadata": {},
   "outputs": [],
   "source": [
    "def totalLoanPaybackAmtAndTime():\n",
    "    return (amount, time)"
   ]
  },
  {
   "cell_type": "code",
   "execution_count": null,
   "metadata": {},
   "outputs": [],
   "source": [
    "def bankProfit():\n",
    "    return profit"
   ]
  },
  {
   "cell_type": "code",
   "execution_count": null,
   "metadata": {},
   "outputs": [],
   "source": [
    "def isPrime():\n",
    "    return isPrime"
   ]
  },
  {
   "cell_type": "code",
   "execution_count": null,
   "metadata": {},
   "outputs": [],
   "source": [
    "def isComposite():\n",
    "    return isComposite"
   ]
  },
  {
   "cell_type": "code",
   "execution_count": null,
   "metadata": {},
   "outputs": [],
   "source": [
    "def isMersennePrime():\n",
    "    return isMersennePrime"
   ]
  },
  {
   "cell_type": "code",
   "execution_count": null,
   "metadata": {},
   "outputs": [],
   "source": [
    "def isLevelPerfectNumber():\n",
    "    return isLevelperfectNumber"
   ]
  },
  {
   "cell_type": "code",
   "execution_count": null,
   "metadata": {},
   "outputs": [],
   "source": [
    "def goodOrEvil():\n",
    "    return goodOrEvil"
   ]
  },
  {
   "cell_type": "code",
   "execution_count": null,
   "metadata": {},
   "outputs": [],
   "source": [
    "ops = [sum]\n",
    "def comboNumsToTotal(nums, total):\n",
    "    formulas = ['']; comboOps = []; finalJ = 0\n",
    "    for j in range(len(nums)):\n",
    "        for k in range(j+1, len(nums)+1):\n",
    "            if (ops[0](nums[j:k]) == total):\n",
    "                comboOps += [' + ']\n",
    "                break\n",
    "        if comboOps:\n",
    "            break\n",
    "    if comboOps:\n",
    "        for num in nums[j:k-1]:\n",
    "            formulas[0] += str(num) + comboOps[0]\n",
    "        formulas[0] += str(nums[k-1]) + ' = ' + str(total)\n",
    "    else:\n",
    "        formulas[0] += 'Error: No combo of the given number list (nums) equals the single number given (total).'\n",
    "    print(formulas)\n",
    "comboNumsToTotal([0, 3, 3, 4, 5, 8], 16)"
   ]
  }
 ],
 "metadata": {
  "kernelspec": {
   "display_name": "Python 3",
   "language": "python",
   "name": "python3"
  },
  "language_info": {
   "codemirror_mode": {
    "name": "ipython",
    "version": 3
   },
   "file_extension": ".py",
   "mimetype": "text/x-python",
   "name": "python",
   "nbconvert_exporter": "python",
   "pygments_lexer": "ipython3",
   "version": "3.6.5"
  }
 },
 "nbformat": 4,
 "nbformat_minor": 2
}
